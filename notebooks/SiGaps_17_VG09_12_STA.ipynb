{
 "cells": [
  {
   "cell_type": "markdown",
   "metadata": {},
   "source": [
    "###This IPython Notebook is for showing spectra of sample VG09-12, on- and off- the mesh region with 49+/-6 nm gap.  This version is updated with new data from February 2015.\n",
    "\n",
    "The filename of the figure is **[TBD].pdf**.\n",
    "\n",
    "Author: Michael Gully-Santiago, `gully@astro.as.utexas.edu`\n",
    "\n",
    "Date: February 9, 2015"
   ]
  },
  {
   "cell_type": "code",
   "execution_count": 1,
   "metadata": {
    "collapsed": false
   },
   "outputs": [
    {
     "name": "stdout",
     "output_type": "stream",
     "text": [
      "Populating the interactive namespace from numpy and matplotlib\n"
     ]
    }
   ],
   "source": [
    "%pylab inline\n",
    "import emcee\n",
    "import triangle\n",
    "import pandas as pd\n",
    "import seaborn as sns\n",
    "from astroML.decorators import pickle_results"
   ]
  },
  {
   "cell_type": "code",
   "execution_count": 2,
   "metadata": {
    "collapsed": false
   },
   "outputs": [],
   "source": [
    "sns.set_context(\"paper\", font_scale=4.0, rc={\"lines.linewidth\": 2.5})\n",
    "sns.set(style=\"ticks\")"
   ]
  },
  {
   "cell_type": "markdown",
   "metadata": {},
   "source": [
    "Import all the local models, saved locally as `etalon.py`.  See the paper for derivations of these equations."
   ]
  },
  {
   "cell_type": "code",
   "execution_count": 3,
   "metadata": {
    "collapsed": false
   },
   "outputs": [],
   "source": [
    "from etalon import *\n",
    "np.random.seed(78704)"
   ]
  },
  {
   "cell_type": "markdown",
   "metadata": {},
   "source": [
    "Read in the data.  We want \"VG09-12\" from February 2015"
   ]
  },
  {
   "cell_type": "code",
   "execution_count": 4,
   "metadata": {
    "collapsed": false
   },
   "outputs": [
    {
     "data": {
      "text/html": [
       "<div style=\"max-height:1000px;max-width:1500px;overflow:auto;\">\n",
       "<table border=\"1\" class=\"dataframe\">\n",
       "  <thead>\n",
       "    <tr style=\"text-align: right;\">\n",
       "      <th></th>\n",
       "      <th>VG09-12_1_0</th>\n",
       "      <th>VG09-12_1_2</th>\n",
       "      <th>VG09-12_1_4</th>\n",
       "      <th>VG09-12_1_6</th>\n",
       "      <th>VG09-12_1_8</th>\n",
       "      <th>VG09-12_1_10</th>\n",
       "      <th>VG09-12_1_12</th>\n",
       "      <th>VG09-12_1_14</th>\n",
       "      <th>VG09-12_1_16</th>\n",
       "      <th>VG09-12_1_18</th>\n",
       "      <th>...</th>\n",
       "      <th>VG09-12_1_32</th>\n",
       "      <th>VG09-12_1_34</th>\n",
       "      <th>VG09-12_1_36</th>\n",
       "      <th>VG09-12_1_38</th>\n",
       "      <th>VG09-12_1_40</th>\n",
       "      <th>VG09-12_1_42</th>\n",
       "      <th>VG09-12_1_44</th>\n",
       "      <th>VG09-12_1_46</th>\n",
       "      <th>VG09-12_1_48</th>\n",
       "      <th>VG09-12_1_50</th>\n",
       "    </tr>\n",
       "    <tr>\n",
       "      <th>wavelength</th>\n",
       "      <th></th>\n",
       "      <th></th>\n",
       "      <th></th>\n",
       "      <th></th>\n",
       "      <th></th>\n",
       "      <th></th>\n",
       "      <th></th>\n",
       "      <th></th>\n",
       "      <th></th>\n",
       "      <th></th>\n",
       "      <th></th>\n",
       "      <th></th>\n",
       "      <th></th>\n",
       "      <th></th>\n",
       "      <th></th>\n",
       "      <th></th>\n",
       "      <th></th>\n",
       "      <th></th>\n",
       "      <th></th>\n",
       "      <th></th>\n",
       "      <th></th>\n",
       "    </tr>\n",
       "  </thead>\n",
       "  <tbody>\n",
       "    <tr>\n",
       "      <th>1775</th>\n",
       "      <td> 1.880152</td>\n",
       "      <td> 1.641429</td>\n",
       "      <td> 0.976230</td>\n",
       "      <td> 0.964145</td>\n",
       "      <td> 0.976460</td>\n",
       "      <td> 0.979872</td>\n",
       "      <td> 0.987270</td>\n",
       "      <td> 0.986529</td>\n",
       "      <td> 1.070819</td>\n",
       "      <td> 1.002500</td>\n",
       "      <td>...</td>\n",
       "      <td> 1.002960</td>\n",
       "      <td> 1.002864</td>\n",
       "      <td> 1.003209</td>\n",
       "      <td> 1.003811</td>\n",
       "      <td> 0.965806</td>\n",
       "      <td> 0.918209</td>\n",
       "      <td> 1.876167</td>\n",
       "      <td> 1.881628</td>\n",
       "      <td> 1.883350</td>\n",
       "      <td> 1.883947</td>\n",
       "    </tr>\n",
       "    <tr>\n",
       "      <th>1765</th>\n",
       "      <td> 1.879758</td>\n",
       "      <td> 1.642331</td>\n",
       "      <td> 0.974838</td>\n",
       "      <td> 0.964183</td>\n",
       "      <td> 0.976321</td>\n",
       "      <td> 0.978982</td>\n",
       "      <td> 0.986934</td>\n",
       "      <td> 0.985437</td>\n",
       "      <td> 1.070772</td>\n",
       "      <td> 1.002522</td>\n",
       "      <td>...</td>\n",
       "      <td> 1.002708</td>\n",
       "      <td> 1.002673</td>\n",
       "      <td> 1.003248</td>\n",
       "      <td> 1.003872</td>\n",
       "      <td> 0.966022</td>\n",
       "      <td> 0.917161</td>\n",
       "      <td> 1.875934</td>\n",
       "      <td> 1.881610</td>\n",
       "      <td> 1.883944</td>\n",
       "      <td> 1.884051</td>\n",
       "    </tr>\n",
       "    <tr>\n",
       "      <th>1755</th>\n",
       "      <td> 1.880479</td>\n",
       "      <td> 1.643144</td>\n",
       "      <td> 0.973691</td>\n",
       "      <td> 0.964016</td>\n",
       "      <td> 0.975474</td>\n",
       "      <td> 0.978551</td>\n",
       "      <td> 0.986437</td>\n",
       "      <td> 0.984843</td>\n",
       "      <td> 1.070936</td>\n",
       "      <td> 1.002670</td>\n",
       "      <td>...</td>\n",
       "      <td> 1.002381</td>\n",
       "      <td> 1.002297</td>\n",
       "      <td> 1.003009</td>\n",
       "      <td> 1.003320</td>\n",
       "      <td> 0.965691</td>\n",
       "      <td> 0.917684</td>\n",
       "      <td> 1.876912</td>\n",
       "      <td> 1.882451</td>\n",
       "      <td> 1.884022</td>\n",
       "      <td> 1.884329</td>\n",
       "    </tr>\n",
       "    <tr>\n",
       "      <th>1745</th>\n",
       "      <td> 1.880220</td>\n",
       "      <td> 1.643559</td>\n",
       "      <td> 0.973281</td>\n",
       "      <td> 0.963117</td>\n",
       "      <td> 0.974474</td>\n",
       "      <td> 0.977558</td>\n",
       "      <td> 0.986889</td>\n",
       "      <td> 0.984795</td>\n",
       "      <td> 1.070851</td>\n",
       "      <td> 1.002239</td>\n",
       "      <td>...</td>\n",
       "      <td> 1.002931</td>\n",
       "      <td> 1.002059</td>\n",
       "      <td> 1.002659</td>\n",
       "      <td> 1.003579</td>\n",
       "      <td> 0.965511</td>\n",
       "      <td> 0.916989</td>\n",
       "      <td> 1.876531</td>\n",
       "      <td> 1.882771</td>\n",
       "      <td> 1.884626</td>\n",
       "      <td> 1.884169</td>\n",
       "    </tr>\n",
       "    <tr>\n",
       "      <th>1735</th>\n",
       "      <td> 1.880693</td>\n",
       "      <td> 1.643988</td>\n",
       "      <td> 0.973618</td>\n",
       "      <td> 0.963056</td>\n",
       "      <td> 0.973207</td>\n",
       "      <td> 0.976588</td>\n",
       "      <td> 0.987083</td>\n",
       "      <td> 0.984501</td>\n",
       "      <td> 1.070377</td>\n",
       "      <td> 1.001896</td>\n",
       "      <td>...</td>\n",
       "      <td> 1.002166</td>\n",
       "      <td> 1.002575</td>\n",
       "      <td> 1.003052</td>\n",
       "      <td> 1.003299</td>\n",
       "      <td> 0.965231</td>\n",
       "      <td> 0.917656</td>\n",
       "      <td> 1.876819</td>\n",
       "      <td> 1.882872</td>\n",
       "      <td> 1.884520</td>\n",
       "      <td> 1.884540</td>\n",
       "    </tr>\n",
       "  </tbody>\n",
       "</table>\n",
       "<p>5 rows × 26 columns</p>\n",
       "</div>"
      ],
      "text/plain": [
       "            VG09-12_1_0  VG09-12_1_2  VG09-12_1_4  VG09-12_1_6  VG09-12_1_8  \\\n",
       "wavelength                                                                    \n",
       "1775           1.880152     1.641429     0.976230     0.964145     0.976460   \n",
       "1765           1.879758     1.642331     0.974838     0.964183     0.976321   \n",
       "1755           1.880479     1.643144     0.973691     0.964016     0.975474   \n",
       "1745           1.880220     1.643559     0.973281     0.963117     0.974474   \n",
       "1735           1.880693     1.643988     0.973618     0.963056     0.973207   \n",
       "\n",
       "            VG09-12_1_10  VG09-12_1_12  VG09-12_1_14  VG09-12_1_16  \\\n",
       "wavelength                                                           \n",
       "1775            0.979872      0.987270      0.986529      1.070819   \n",
       "1765            0.978982      0.986934      0.985437      1.070772   \n",
       "1755            0.978551      0.986437      0.984843      1.070936   \n",
       "1745            0.977558      0.986889      0.984795      1.070851   \n",
       "1735            0.976588      0.987083      0.984501      1.070377   \n",
       "\n",
       "            VG09-12_1_18      ...       VG09-12_1_32  VG09-12_1_34  \\\n",
       "wavelength                    ...                                    \n",
       "1775            1.002500      ...           1.002960      1.002864   \n",
       "1765            1.002522      ...           1.002708      1.002673   \n",
       "1755            1.002670      ...           1.002381      1.002297   \n",
       "1745            1.002239      ...           1.002931      1.002059   \n",
       "1735            1.001896      ...           1.002166      1.002575   \n",
       "\n",
       "            VG09-12_1_36  VG09-12_1_38  VG09-12_1_40  VG09-12_1_42  \\\n",
       "wavelength                                                           \n",
       "1775            1.003209      1.003811      0.965806      0.918209   \n",
       "1765            1.003248      1.003872      0.966022      0.917161   \n",
       "1755            1.003009      1.003320      0.965691      0.917684   \n",
       "1745            1.002659      1.003579      0.965511      0.916989   \n",
       "1735            1.003052      1.003299      0.965231      0.917656   \n",
       "\n",
       "            VG09-12_1_44  VG09-12_1_46  VG09-12_1_48  VG09-12_1_50  \n",
       "wavelength                                                          \n",
       "1775            1.876167      1.881628      1.883350      1.883947  \n",
       "1765            1.875934      1.881610      1.883944      1.884051  \n",
       "1755            1.876912      1.882451      1.884022      1.884329  \n",
       "1745            1.876531      1.882771      1.884626      1.884169  \n",
       "1735            1.876819      1.882872      1.884520      1.884540  \n",
       "\n",
       "[5 rows x 26 columns]"
      ]
     },
     "execution_count": 4,
     "metadata": {},
     "output_type": "execute_result"
    }
   ],
   "source": [
    "df = pd.read_csv('../data/VG09_12_gap_20150206.csv', index_col=0)\n",
    "df.head()"
   ]
  },
  {
   "cell_type": "markdown",
   "metadata": {},
   "source": [
    "The step interval is 2.0 mm.  There are 26 steps."
   ]
  },
  {
   "cell_type": "code",
   "execution_count": 5,
   "metadata": {
    "collapsed": false
   },
   "outputs": [],
   "source": [
    "# Introduce the Real data, decimate the data.\n",
    "x = df.index.values\n",
    "N = len(x)\n",
    "# Define T_DSP for the model\n",
    "T_DSP = T_gap_Si(x, 0.0)\n",
    "n1 = sellmeier_Si(x)\n",
    "\n",
    "# Define uncertainty\n",
    "yerr = 0.0002*np.ones(N)\n",
    "yerr[(x > 1350) & (x < 1420)] = 0.0005 #higher noise in this region\n",
    "iid_cov = np.diag(yerr ** 2)\n",
    "\n",
    "# Select the spectrum of interest\n",
    "# Normalize the spectrum by measured DSP Si wafer.\n",
    "y = df['VG09-12_1_14'].values"
   ]
  },
  {
   "cell_type": "markdown",
   "metadata": {},
   "source": [
    "Plot the data.  This is the original plot."
   ]
  },
  {
   "cell_type": "code",
   "execution_count": 6,
   "metadata": {
    "collapsed": false
   },
   "outputs": [
    {
     "data": {
      "image/png": "[encoded data removed]",
      "text/plain": [
       "<matplotlib.figure.Figure at 0x1124b0f10>"
      ]
     },
     "metadata": {},
     "output_type": "display_data"
    }
   ],
   "source": [
    "plt.plot(df.index, df['VG09-12_1_4'], label='On-mesh- 4 mm')\n",
    "plt.plot(df.index, df['VG09-12_1_6'], label='On-mesh- 6 mm')\n",
    "plt.plot(df.index, df['VG09-12_1_8'], label='On-mesh- 8 mm')\n",
    "plt.plot(df.index, df['VG09-12_1_10'], label='On-mesh- 10 mm')\n",
    "plt.plot(df.index, df['VG09-12_1_12'], label='On-mesh- 12 mm')\n",
    "plt.plot(df.index, df['VG09-12_1_14'], label='On-mesh- 14 mm')\n",
    "plt.plot(df.index, df['VG09-12_1_16'], 'k.', label='Mesh Boundary')\n",
    "plt.plot(df.index, df['VG09-12_1_18'], 'b-.', label='Off-mesh- 18 mm')\n",
    "\n",
    "fit1 = T_gap_Si_withFF_fast(x, 43, 0.5, n1)/T_DSP\n",
    "fit2 = T_gap_Si_withFF_fast(x, 55, 0.5, n1)/T_DSP\n",
    "fit2_label = 'Model with $d_M={:.0f}\\pm{:.0f}$ nm, $\\epsilon={:.0f}$'.format(49, 6, 0)\n",
    "plt.fill_between(x, fit1, fit2, alpha=0.6, color=sns.xkcd_rgb[\"green apple\"])\n",
    "plt.plot([-10, -9], [-10, -9],\"-\", alpha=0.85, color=sns.xkcd_rgb[\"green apple\"], label=fit2_label)\n",
    "\n",
    "plt.plot([-1000, 9000], [1,1], 'k--')\n",
    "plt.legend(loc='best')\n",
    "plt.ylim(0.85, 1.05)\n",
    "plt.xlim(1250, 1780)\n",
    "plt.ylabel(\"$T_{gap}$\")\n",
    "plt.xlabel(\"$\\lambda$ (nm)\");\n",
    "plt.savefig(\"VG0912_STA_scan.pdf\",  bbox_inches='tight')"
   ]
  },
  {
   "cell_type": "code",
   "execution_count": 7,
   "metadata": {
    "collapsed": true
   },
   "outputs": [],
   "source": [
    "sns.set_context(\"paper\", font_scale=1.5, rc={\"lines.linewidth\": 2.0})"
   ]
  },
  {
   "cell_type": "code",
   "execution_count": 9,
   "metadata": {
    "collapsed": false
   },
   "outputs": [
    {
     "data": {
      "image/png": "[encoded data removed]",
      "text/plain": [
       "<matplotlib.figure.Figure at 0x1125b6350>"
      ]
     },
     "metadata": {},
     "output_type": "display_data"
    }
   ],
   "source": [
    "plt.step(df.index, df['VG09-12_1_4'], label='On-mesh- 4 mm')\n",
    "plt.step(df.index, df['VG09-12_1_6'], label='On-mesh- 6 mm')\n",
    "plt.step(df.index, df['VG09-12_1_8'], label='On-mesh- 8 mm')\n",
    "plt.step(df.index, df['VG09-12_1_10'], label='On-mesh- 10 mm')\n",
    "plt.step(df.index, df['VG09-12_1_12'], label='On-mesh- 12 mm')\n",
    "plt.step(df.index, df['VG09-12_1_14'], label='On-mesh- 14 mm')\n",
    "#plt.plot(df.index, df['VG09-12_1_16'], 'k.', label='Mesh Boundary')\n",
    "plt.plot(df.index, df['VG09-12_1_18'], 'b.', label='Off-mesh- 18 mm')\n",
    "\n",
    "fit1 = T_gap_Si_withFF_fast(x, 43, 0.3, n1)/T_DSP\n",
    "fit2 = T_gap_Si_withFF_fast(x, 55, 0.75, n1)/T_DSP\n",
    "fit2_label = 'Model with $d_M={:.0f}\\pm{:.0f}$ nm, ${:.1f}<f<{:.2f}$'.format(49, 6, 0.30, 0.75)\n",
    "plt.fill_between(x, fit1, fit2, alpha=0.6, color='#cccccc')\n",
    "plt.plot([-10, -9], [-10, -9],\"-\", alpha=0.0, color='#cccccc', label=fit2_label)\n",
    "\n",
    "plt.plot([-1000, 9000], [1,1], 'k--')\n",
    "plt.legend(loc='best')\n",
    "# Complete hack to get a shaded band in the legend.\n",
    "plt.fill_between([1390, 1440], [0.825, 0.825], [0.845,0.845], alpha=0.6, color='#cccccc')\n",
    "plt.ylim(0.82, 1.02)\n",
    "plt.xlim(1250, 1780)\n",
    "plt.ylabel(\"$T_{gap}$\")\n",
    "plt.xlabel(\"$\\lambda$ (nm)\");\n",
    "plt.savefig(\"../figs/VG0912_STA_scan_coarse.pdf\",  bbox_inches='tight')"
   ]
  },
  {
   "cell_type": "markdown",
   "metadata": {},
   "source": [
    "Figure Caption:\n",
    "===\n",
    "Sample VG09-12 has a single coarse mesh.  The mesh is composed of boxes plasma-etched to a depth of $49\\pm6\\;$nm.   The boxes have an edge length of 1.5 mm.  The edges of adjacent boxes are spaced 0.62 mm apart, to yield an overall fill factor of 50%.  The Cary5000 measurement beam size is $\\sim$1 mm $\\times$ 10 mm.  Since the beam size is comparable to the mesh size, the fill factor at the position of the measurement will will differ from 50%. The slit measurement was aligned with the mesh grid.  The highest fill factor acheivable is about 75%, assuming the slit fit perfectly within a column of boxes.  The slit is larger than 0.62 mm, so the measurement cannot exhibit a 0% fill factor of voids.  The precise value of the minimum fill factor depends on the details of the slit width, which is not known precisely.  We assume that a minimum fill factor of 30%, but caution that this boundary is fuzzy.  "
   ]
  },
  {
   "cell_type": "markdown",
   "metadata": {},
   "source": [
    "The end."
   ]
  }
 ],
 "metadata": {
  "kernelspec": {
   "display_name": "Python 2",
   "language": "python",
   "name": "python2"
  },
  "language_info": {
   "codemirror_mode": {
    "name": "ipython",
    "version": 2
   },
   "file_extension": ".py",
   "mimetype": "text/x-python",
   "name": "python",
   "nbconvert_exporter": "python",
   "pygments_lexer": "ipython2",
   "version": "2.7.9"
  }
 },
 "nbformat": 4,
 "nbformat_minor": 0
}
