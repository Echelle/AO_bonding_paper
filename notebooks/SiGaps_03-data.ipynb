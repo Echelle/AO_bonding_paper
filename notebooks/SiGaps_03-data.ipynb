{
 "metadata": {
  "name": "",
  "signature": "sha256:8dec6b9aa2b452fb3a5d1be19480e4d06f446cac1bab79cfd08a944b6cd1ff13"
 },
 "nbformat": 3,
 "nbformat_minor": 0,
 "worksheets": [
  {
   "cells": [
    {
     "cell_type": "markdown",
     "metadata": {},
     "source": [
      "##Author: gully\n",
      "##Date:   Jan 9, 2015\n",
      "#Fitting Si gaps data with Gaussian Process and `emcee`.\n",
      "\n",
      "Originals available at:\n",
      "https://github.com/dfm/gp-tutorial\n",
      "&\n",
      "https://speakerdeck.com/dfm/an-astronomers-introduction-to-gaussian-processes\n"
     ]
    },
    {
     "cell_type": "code",
     "collapsed": false,
     "input": [
      "%pylab inline\n",
      "# Auto imports np and plt"
     ],
     "language": "python",
     "metadata": {},
     "outputs": [
      {
       "output_type": "stream",
       "stream": "stdout",
       "text": [
        "Populating the interactive namespace from numpy and matplotlib\n"
       ]
      },
      {
       "output_type": "stream",
       "stream": "stderr",
       "text": [
        "WARNING: pylab import has clobbered these variables: ['ndim', 'hist', 'bivariate_normal']\n",
        "`%matplotlib` prevents importing * from pylab and numpy\n"
       ]
      }
     ],
     "prompt_number": 16
    },
    {
     "cell_type": "code",
     "collapsed": false,
     "input": [
      "from matplotlib import rcParams\n",
      "#rcParams[\"savefig.dpi\"] = 150\n",
      "import emcee  # http://dan.iel.fm/emcee\n",
      "import triangle  # https://github.com/dfm/triangle.py\n",
      "import numpy as np\n",
      "import matplotlib.pyplot as plt\n",
      "from astroML.plotting import hist\n",
      "from astroML.stats.random import bivariate_normal\n",
      "from matplotlib.patches import Ellipse\n",
      "import timeit\n",
      "#from IPython.display import display, Math, Latex\n",
      "from astroML.decorators import pickle_results"
     ],
     "language": "python",
     "metadata": {},
     "outputs": [],
     "prompt_number": 17
    },
    {
     "cell_type": "code",
     "collapsed": false,
     "input": [
      "import seaborn as sns\n",
      "sns.set_context(\"notebook\", font_scale=1.5, rc={\"lines.linewidth\": 2.5})\n",
      "cmap = sns.cubehelix_palette(light=1, as_cmap=True)\n",
      "sns.palplot(sns.cubehelix_palette(light=1))"
     ],
     "language": "python",
     "metadata": {},
     "outputs": [
      {
       "metadata": {},
       "output_type": "display_data",
       "png": "[encoded data removed]",
       "text": [
        "<matplotlib.figure.Figure at 0x10977f650>"
       ]
      }
     ],
     "prompt_number": 18
    },
    {
     "cell_type": "markdown",
     "metadata": {},
     "source": [
      "## Non-linear physical optics example\n",
      "\n",
      "Now with real data."
     ]
    },
    {
     "cell_type": "code",
     "collapsed": false,
     "input": [
      "import os"
     ],
     "language": "python",
     "metadata": {},
     "outputs": [],
     "prompt_number": 19
    },
    {
     "cell_type": "code",
     "collapsed": false,
     "input": [
      "import pandas as pd\n",
      "AO_dir = os.getenv(\"AO_bonding_paper\")\n",
      "df = pd.read_csv(AO_dir+\"/data/cln_20130218_cary5000.csv\")\n",
      "df.set_index('wavelength', inplace=True)\n",
      "df.head()"
     ],
     "language": "python",
     "metadata": {},
     "outputs": [
      {
       "html": [
        "<div style=\"max-height:1000px;max-width:1500px;overflow:auto;\">\n",
        "<table border=\"1\" class=\"dataframe\">\n",
        "  <thead>\n",
        "    <tr style=\"text-align: right;\">\n",
        "      <th></th>\n",
        "      <th>Baseline 100%T</th>\n",
        "      <th>Baseline 0%T</th>\n",
        "      <th>VG05</th>\n",
        "      <th>VG01</th>\n",
        "      <th>VG06</th>\n",
        "      <th>VG02</th>\n",
        "      <th>VG02_pos2</th>\n",
        "      <th>VG02_pos3</th>\n",
        "      <th>VG02_pos4</th>\n",
        "      <th>VG03_pos1</th>\n",
        "      <th>VG03_pos2</th>\n",
        "      <th>VG04_pos1</th>\n",
        "      <th>VG04_pos2</th>\n",
        "      <th>VG06_post</th>\n",
        "      <th>Baseline 100%T.1</th>\n",
        "      <th>Baseline 0%T.1</th>\n",
        "      <th>VG05_post</th>\n",
        "    </tr>\n",
        "    <tr>\n",
        "      <th>wavelength</th>\n",
        "      <th></th>\n",
        "      <th></th>\n",
        "      <th></th>\n",
        "      <th></th>\n",
        "      <th></th>\n",
        "      <th></th>\n",
        "      <th></th>\n",
        "      <th></th>\n",
        "      <th></th>\n",
        "      <th></th>\n",
        "      <th></th>\n",
        "      <th></th>\n",
        "      <th></th>\n",
        "      <th></th>\n",
        "      <th></th>\n",
        "      <th></th>\n",
        "      <th></th>\n",
        "    </tr>\n",
        "  </thead>\n",
        "  <tbody>\n",
        "    <tr>\n",
        "      <th>2500</th>\n",
        "      <td> 7.427119</td>\n",
        "      <td>-0.001234</td>\n",
        "      <td> 53.442204</td>\n",
        "      <td> 53.466736</td>\n",
        "      <td> 53.262798</td>\n",
        "      <td> 36.737545</td>\n",
        "      <td> 52.972309</td>\n",
        "      <td> 53.064991</td>\n",
        "      <td> 33.512653</td>\n",
        "      <td> 38.421932</td>\n",
        "      <td> 52.000980</td>\n",
        "      <td> 25.861622</td>\n",
        "      <td> 54.211266</td>\n",
        "      <td> 53.938526</td>\n",
        "      <td> 7.585160</td>\n",
        "      <td> 0.000067</td>\n",
        "      <td> 53.521866</td>\n",
        "    </tr>\n",
        "    <tr>\n",
        "      <th>2490</th>\n",
        "      <td> 7.814320</td>\n",
        "      <td>-0.001347</td>\n",
        "      <td> 53.430767</td>\n",
        "      <td> 53.484589</td>\n",
        "      <td> 53.288322</td>\n",
        "      <td> 36.678280</td>\n",
        "      <td> 53.001614</td>\n",
        "      <td> 53.104568</td>\n",
        "      <td> 33.588028</td>\n",
        "      <td> 37.254417</td>\n",
        "      <td> 52.001225</td>\n",
        "      <td> 25.784100</td>\n",
        "      <td> 54.293777</td>\n",
        "      <td> 53.990936</td>\n",
        "      <td> 7.991349</td>\n",
        "      <td> 0.000207</td>\n",
        "      <td> 53.393871</td>\n",
        "    </tr>\n",
        "    <tr>\n",
        "      <th>2480</th>\n",
        "      <td> 8.378716</td>\n",
        "      <td>-0.000838</td>\n",
        "      <td> 53.504936</td>\n",
        "      <td> 53.481739</td>\n",
        "      <td> 53.299366</td>\n",
        "      <td> 36.473946</td>\n",
        "      <td> 53.025131</td>\n",
        "      <td> 53.119553</td>\n",
        "      <td> 33.557705</td>\n",
        "      <td> 36.035366</td>\n",
        "      <td> 51.969082</td>\n",
        "      <td> 25.835318</td>\n",
        "      <td> 54.253708</td>\n",
        "      <td> 53.963161</td>\n",
        "      <td> 8.566405</td>\n",
        "      <td> 0.000034</td>\n",
        "      <td> 53.493465</td>\n",
        "    </tr>\n",
        "    <tr>\n",
        "      <th>2470</th>\n",
        "      <td> 8.825397</td>\n",
        "      <td>-0.001670</td>\n",
        "      <td> 53.377266</td>\n",
        "      <td> 53.474129</td>\n",
        "      <td> 53.299530</td>\n",
        "      <td> 36.204262</td>\n",
        "      <td> 53.002007</td>\n",
        "      <td> 53.103672</td>\n",
        "      <td> 33.459511</td>\n",
        "      <td> 34.838486</td>\n",
        "      <td> 51.941597</td>\n",
        "      <td> 25.706764</td>\n",
        "      <td> 54.266666</td>\n",
        "      <td> 53.970634</td>\n",
        "      <td> 9.022456</td>\n",
        "      <td>-0.000127</td>\n",
        "      <td> 53.406708</td>\n",
        "    </tr>\n",
        "    <tr>\n",
        "      <th>2460</th>\n",
        "      <td> 9.592031</td>\n",
        "      <td>-0.001384</td>\n",
        "      <td> 53.376835</td>\n",
        "      <td> 53.469803</td>\n",
        "      <td> 53.290367</td>\n",
        "      <td> 35.955139</td>\n",
        "      <td> 53.008461</td>\n",
        "      <td> 53.092026</td>\n",
        "      <td> 33.415165</td>\n",
        "      <td> 33.569817</td>\n",
        "      <td> 51.898754</td>\n",
        "      <td> 25.675592</td>\n",
        "      <td> 54.245071</td>\n",
        "      <td> 53.950542</td>\n",
        "      <td> 9.799633</td>\n",
        "      <td>-0.000737</td>\n",
        "      <td> 53.352882</td>\n",
        "    </tr>\n",
        "  </tbody>\n",
        "</table>\n",
        "</div>"
       ],
       "metadata": {},
       "output_type": "pyout",
       "prompt_number": 20,
       "text": [
        "            Baseline 100%T  Baseline 0%T       VG05       VG01       VG06  \\\n",
        "wavelength                                                                  \n",
        "2500              7.427119     -0.001234  53.442204  53.466736  53.262798   \n",
        "2490              7.814320     -0.001347  53.430767  53.484589  53.288322   \n",
        "2480              8.378716     -0.000838  53.504936  53.481739  53.299366   \n",
        "2470              8.825397     -0.001670  53.377266  53.474129  53.299530   \n",
        "2460              9.592031     -0.001384  53.376835  53.469803  53.290367   \n",
        "\n",
        "                 VG02  VG02_pos2  VG02_pos3  VG02_pos4  VG03_pos1  VG03_pos2  \\\n",
        "wavelength                                                                     \n",
        "2500        36.737545  52.972309  53.064991  33.512653  38.421932  52.000980   \n",
        "2490        36.678280  53.001614  53.104568  33.588028  37.254417  52.001225   \n",
        "2480        36.473946  53.025131  53.119553  33.557705  36.035366  51.969082   \n",
        "2470        36.204262  53.002007  53.103672  33.459511  34.838486  51.941597   \n",
        "2460        35.955139  53.008461  53.092026  33.415165  33.569817  51.898754   \n",
        "\n",
        "            VG04_pos1  VG04_pos2  VG06_post  Baseline 100%T.1  Baseline 0%T.1  \\\n",
        "wavelength                                                                      \n",
        "2500        25.861622  54.211266  53.938526          7.585160        0.000067   \n",
        "2490        25.784100  54.293777  53.990936          7.991349        0.000207   \n",
        "2480        25.835318  54.253708  53.963161          8.566405        0.000034   \n",
        "2470        25.706764  54.266666  53.970634          9.022456       -0.000127   \n",
        "2460        25.675592  54.245071  53.950542          9.799633       -0.000737   \n",
        "\n",
        "            VG05_post  \n",
        "wavelength             \n",
        "2500        53.521866  \n",
        "2490        53.393871  \n",
        "2480        53.493465  \n",
        "2470        53.406708  \n",
        "2460        53.352882  "
       ]
      }
     ],
     "prompt_number": 20
    },
    {
     "cell_type": "markdown",
     "metadata": {},
     "source": [
      "## Make an estimate for point-to-point measurement uncertainties (heteroscedasticity)\n",
      "\n",
      "The approach here is to make a running variance window function or something."
     ]
    },
    {
     "cell_type": "code",
     "collapsed": false,
     "input": [
      "mask = (df.index > 1250.0)\n",
      "df = df[mask]"
     ],
     "language": "python",
     "metadata": {},
     "outputs": [],
     "prompt_number": 21
    },
    {
     "cell_type": "code",
     "collapsed": false,
     "input": [
      "hdf = pd.read_csv(\"hetroscedastic.txt\",names=['yerr', 'junk'], skiprows=1)"
     ],
     "language": "python",
     "metadata": {},
     "outputs": [],
     "prompt_number": 22
    },
    {
     "cell_type": "markdown",
     "metadata": {},
     "source": [
      "## Read in the data and make an estimate for the covariance."
     ]
    },
    {
     "cell_type": "code",
     "collapsed": false,
     "input": [
      "from etalon import *\n",
      "\n",
      "np.random.seed(123456)\n",
      "\n",
      "# Introduce the Real data\n",
      "x = df.index.values\n",
      "y_True = df.VG03_pos2.values/df.VG06.values\n",
      "\n",
      "#Truncate to just 1200 nm\n",
      "wl_mask = (x > 1200.0)\n",
      "x = x[wl_mask]\n",
      "y_True = y_True[wl_mask]\n",
      "\n",
      "N = len(x)\n",
      "\n",
      "# Define T_DSP for the model\n",
      "T_DSP = T_gap_Si(x, 0.0)\n",
      "\n",
      "#Introduce some noise with both measurement uncertainties \n",
      "#   and non-trivial correlated errors.\n",
      "\n",
      "#yerr = 0.0002*np.ones(N)\n",
      "yerr = hdf.yerr\n",
      "iid_cov = np.diag(yerr ** 2)\n",
      "\n",
      "a_True = 0.002\n",
      "s_True = 100.0\n",
      "y = y_True"
     ],
     "language": "python",
     "metadata": {},
     "outputs": [],
     "prompt_number": 23
    },
    {
     "cell_type": "markdown",
     "metadata": {},
     "source": [
      "## Plot III: Data vs 'truth'\n",
      "And plot the data with the observational uncertainties. The true line is plotted in black."
     ]
    },
    {
     "cell_type": "code",
     "collapsed": false,
     "input": [
      "plt.errorbar(x, y, yerr=yerr, fmt=\".k\", capsize=0)\n",
      "plt.xlabel('$\\lambda$');\n",
      "plt.ylabel('$T_{gap}$');\n",
      "plt.title('Measured Si Transmission');\n",
      "plt.ylim(0.9, 1.01);"
     ],
     "language": "python",
     "metadata": {},
     "outputs": [
      {
       "metadata": {},
       "output_type": "display_data",
       "png": "[encoded data removed]",
       "text": [
        "<matplotlib.figure.Figure at 0x1099b9450>"
       ]
      }
     ],
     "prompt_number": 24
    },
    {
     "cell_type": "markdown",
     "metadata": {},
     "source": [
      "### We can't do linear regression in Matrix form, because this is a non-linear problem."
     ]
    },
    {
     "cell_type": "markdown",
     "metadata": {},
     "source": [
      "##Constructing a guess at the covariance matrix\n",
      "\n",
      "The off-diagonal terms are characterized by parameters $a$ and $s$.  \n",
      "\n",
      "The term $a$ controls the strength of the interaction.  The term $s$ controls the range of correlation.\n",
      "\n",
      "\n",
      "First we define a natural log likelihood function.  You hand it a $d$, a $f$, an $a$, and an $s$ and it gives you the likelihood of the data: $\\ln{p}=\\ln{p(y|d,f,a,s)}$\n",
      "\n",
      "Note: x is not passed to this function.  The way Python works, `x`, `y`, and `iid_cov` are searched for in the local namespace, then global namespace."
     ]
    },
    {
     "cell_type": "code",
     "collapsed": false,
     "input": [
      "n1 = sellmeier_Si(x)"
     ],
     "language": "python",
     "metadata": {},
     "outputs": [],
     "prompt_number": 25
    },
    {
     "cell_type": "code",
     "collapsed": false,
     "input": [
      "def lnlike(d, f, lna, lns):\n",
      "    a, s = np.exp(lna), np.exp(lns)\n",
      "    off_diag_terms = a**2 * np.exp(-0.5 * (x[:, None] - x[None, :])**2 / s**2)\n",
      "    C = iid_cov + off_diag_terms\n",
      "    sgn, logdet = np.linalg.slogdet(C)\n",
      "    if sgn <= 0:\n",
      "        return -np.inf\n",
      "    r = y - T_gap_Si_withFF_fast(x, d, f, n1)/T_DSP\n",
      "    return -0.5 * (np.dot(r, np.linalg.solve(C, r)) + logdet)"
     ],
     "language": "python",
     "metadata": {},
     "outputs": [],
     "prompt_number": 26
    },
    {
     "cell_type": "code",
     "collapsed": false,
     "input": [
      "# Apply a uniform prior over some range.\n",
      "# Shape params are uniform in log space \n",
      "def lnprior(d, f, lna, lns):\n",
      "    if not (3800 < d < 4300 and 0 < f < 0.5 and -12 < lna < -2 and 0 < lns < 8):\n",
      "        return -np.inf\n",
      "    return 0.0"
     ],
     "language": "python",
     "metadata": {},
     "outputs": [],
     "prompt_number": 27
    },
    {
     "cell_type": "code",
     "collapsed": false,
     "input": [
      "def lnprob(p):\n",
      "    lp = lnprior(*p)\n",
      "    if not np.isfinite(lp):\n",
      "        return -np.inf\n",
      "    return lp + lnlike(*p)"
     ],
     "language": "python",
     "metadata": {},
     "outputs": [],
     "prompt_number": 28
    },
    {
     "cell_type": "markdown",
     "metadata": {},
     "source": [
      "## Run `emcee`!"
     ]
    },
    {
     "cell_type": "code",
     "collapsed": false,
     "input": [
      "ndim, nwalkers = 4, 32\n",
      "d_Guess = 4120.0\n",
      "f_Guess = 0.045\n",
      "p0 = np.array([d_Guess, f_Guess, np.log(a_True), np.log(s_True)]) # Decent guess\n",
      "pos = [p0 + 1.0e-2*p0 * np.random.randn(ndim) for i in range(nwalkers)]\n",
      "\n",
      "sampler = emcee.EnsembleSampler(nwalkers, ndim, lnprob)"
     ],
     "language": "python",
     "metadata": {},
     "outputs": [],
     "prompt_number": 29
    },
    {
     "cell_type": "code",
     "collapsed": false,
     "input": [
      "@pickle_results('SiGaps_03_data-sampler.pkl')\n",
      "def hammer_time(ndim, nwalkers, d_Guess, f_Guess, a_Guess, s_Guess, nburnins, ntrials):\n",
      "    \n",
      "    # Initialize the walkers\n",
      "    p0 = np.array([d_Guess, f_Guess, np.log(a_Guess), np.log(s_Guess)])\n",
      "    pos = [p0 + 1.0e-2*p0 * np.random.randn(ndim) for i in range(nwalkers)]\n",
      "    \n",
      "    sampler = emcee.EnsembleSampler(nwalkers, ndim, lnprob)\n",
      "    \n",
      "    pos, lp, state = sampler.run_mcmc(pos, nburnins)\n",
      "    sampler.reset()\n",
      "    pos, lp, state = sampler.run_mcmc(pos, ntrials)\n",
      "    return sampler"
     ],
     "language": "python",
     "metadata": {},
     "outputs": [],
     "prompt_number": 30
    },
    {
     "cell_type": "code",
     "collapsed": false,
     "input": [
      "np.random.seed(78704)\n",
      "ndim, nwalkers = 4, 32\n",
      "d_Guess = 4120.0\n",
      "f_Guess = 0.045\n",
      "a_Guess = 0.0016\n",
      "s_Guess = 100.0\n",
      "nburnins = 200\n",
      "ntrials = 600"
     ],
     "language": "python",
     "metadata": {},
     "outputs": [],
     "prompt_number": 31
    },
    {
     "cell_type": "code",
     "collapsed": false,
     "input": [
      "sampler = hammer_time(ndim, nwalkers, d_Guess, f_Guess, a_Guess, s_Guess, nburnins, ntrials)"
     ],
     "language": "python",
     "metadata": {},
     "outputs": [
      {
       "output_type": "stream",
       "stream": "stdout",
       "text": [
        "@pickle_results: computing results and saving to 'SiGaps_03_data-sampler.pkl'\n"
       ]
      }
     ],
     "prompt_number": 32
    },
    {
     "cell_type": "code",
     "collapsed": false,
     "input": [
      "fig, axes = plt.subplots(4, 1, figsize=(5, 6), sharex=True)\n",
      "fig.subplots_adjust(left=0.1, bottom=0.1, right=0.96, top=0.98,\n",
      "                    wspace=0.0, hspace=0.05)\n",
      "[a.plot(np.arange(chain.shape[1]), chain[:, :, i].T, \"k\", alpha=0.5)\n",
      " for i, a in enumerate(axes)]\n",
      "[a.set_ylabel(\"${0}$\".format(l)) for a, l in zip(axes, [\"d\", \"f\", \"\\ln a\", \"\\ln s\"])]\n",
      "axes[-1].set_xlim(0, chain.shape[1])\n",
      "axes[-1].set_xlabel(\"iteration\");"
     ],
     "language": "python",
     "metadata": {},
     "outputs": [
      {
       "ename": "NameError",
       "evalue": "name 'chain' is not defined",
       "output_type": "pyerr",
       "traceback": [
        "\u001b[0;31m---------------------------------------------------------------------------\u001b[0m\n\u001b[0;31mNameError\u001b[0m                                 Traceback (most recent call last)",
        "\u001b[0;32m<ipython-input-33-a62f5ee81a23>\u001b[0m in \u001b[0;36m<module>\u001b[0;34m()\u001b[0m\n\u001b[1;32m      3\u001b[0m                     wspace=0.0, hspace=0.05)\n\u001b[1;32m      4\u001b[0m [a.plot(np.arange(chain.shape[1]), chain[:, :, i].T, \"k\", alpha=0.5)\n\u001b[0;32m----> 5\u001b[0;31m  for i, a in enumerate(axes)]\n\u001b[0m\u001b[1;32m      6\u001b[0m \u001b[0;34m[\u001b[0m\u001b[0ma\u001b[0m\u001b[0;34m.\u001b[0m\u001b[0mset_ylabel\u001b[0m\u001b[0;34m(\u001b[0m\u001b[0;34m\"${0}$\"\u001b[0m\u001b[0;34m.\u001b[0m\u001b[0mformat\u001b[0m\u001b[0;34m(\u001b[0m\u001b[0ml\u001b[0m\u001b[0;34m)\u001b[0m\u001b[0;34m)\u001b[0m \u001b[0;32mfor\u001b[0m \u001b[0ma\u001b[0m\u001b[0;34m,\u001b[0m \u001b[0ml\u001b[0m \u001b[0;32min\u001b[0m \u001b[0mzip\u001b[0m\u001b[0;34m(\u001b[0m\u001b[0maxes\u001b[0m\u001b[0;34m,\u001b[0m \u001b[0;34m[\u001b[0m\u001b[0;34m\"d\"\u001b[0m\u001b[0;34m,\u001b[0m \u001b[0;34m\"f\"\u001b[0m\u001b[0;34m,\u001b[0m \u001b[0;34m\"\\ln a\"\u001b[0m\u001b[0;34m,\u001b[0m \u001b[0;34m\"\\ln s\"\u001b[0m\u001b[0;34m]\u001b[0m\u001b[0;34m)\u001b[0m\u001b[0;34m]\u001b[0m\u001b[0;34m\u001b[0m\u001b[0m\n\u001b[1;32m      7\u001b[0m \u001b[0maxes\u001b[0m\u001b[0;34m[\u001b[0m\u001b[0;34m-\u001b[0m\u001b[0;36m1\u001b[0m\u001b[0;34m]\u001b[0m\u001b[0;34m.\u001b[0m\u001b[0mset_xlim\u001b[0m\u001b[0;34m(\u001b[0m\u001b[0;36m0\u001b[0m\u001b[0;34m,\u001b[0m \u001b[0mchain\u001b[0m\u001b[0;34m.\u001b[0m\u001b[0mshape\u001b[0m\u001b[0;34m[\u001b[0m\u001b[0;36m1\u001b[0m\u001b[0;34m]\u001b[0m\u001b[0;34m)\u001b[0m\u001b[0;34m\u001b[0m\u001b[0m\n",
        "\u001b[0;31mNameError\u001b[0m: name 'chain' is not defined"
       ]
      },
      {
       "metadata": {},
       "output_type": "display_data",
       "png": "[encoded data removed]",
       "text": [
        "<matplotlib.figure.Figure at 0x10a03f3d0>"
       ]
      }
     ],
     "prompt_number": 33
    },
    {
     "cell_type": "code",
     "collapsed": false,
     "input": [
      "samples = sampler.flatchain\n",
      "samples_lin = copy(samples)\n",
      "samples_lin[:, 2:] = np.exp(samples_lin[:, 2:])"
     ],
     "language": "python",
     "metadata": {},
     "outputs": []
    },
    {
     "cell_type": "code",
     "collapsed": false,
     "input": [
      "fig = triangle.corner(samples_lin, \n",
      "                      labels=map(\"${0}$\".format, [\"d\", \"f\", \"a\", \"s\"]), \n",
      "                      quantiles=[0.16, 0.84])"
     ],
     "language": "python",
     "metadata": {},
     "outputs": []
    },
    {
     "cell_type": "code",
     "collapsed": false,
     "input": [
      "off_diag_terms = 0.0018**2 * np.exp(-0.5 * (x[:, None] - x[None, :])**2 / 12.0**2)\n",
      "C = iid_cov + off_diag_terms\n",
      "fit = T_gap_Si_withFF_fast(x, 4093.5, 0.04572, n1)/T_DSP\n",
      "\n",
      "vec = np.random.multivariate_normal(fit, C)"
     ],
     "language": "python",
     "metadata": {},
     "outputs": []
    },
    {
     "cell_type": "code",
     "collapsed": false,
     "input": [
      "for d, f, a, s in samples_lin[np.random.randint(len(samples), size=3)]:\n",
      "    #plt.plot(x, T_gap_Si_withFF_fast(x, d, f, n1)/T_DSP, color=\"r\", alpha=0.03)\n",
      "    off_diag_terms = a**2 * np.exp(-0.5 * (x[:, None] - x[None, :])**2 / s**2)\n",
      "    C = iid_cov + off_diag_terms\n",
      "    fit = T_gap_Si_withFF_fast(x, 4093.5, 0.04572, n1)/T_DSP\n",
      "    vec = np.random.multivariate_normal(fit, C)\n",
      "    plt.plot(x, vec, color=\"g\", alpha=0.3)\n",
      "    \n",
      "plt.errorbar(x, y, yerr, fmt=\".k\")\n",
      "plt.xlabel('$\\lambda$');\n",
      "plt.ylabel('$T_{gap}$');\n",
      "plt.title('Observed Si Transmission');\n",
      "plt.ylim(0.9, 1.01);"
     ],
     "language": "python",
     "metadata": {},
     "outputs": []
    },
    {
     "cell_type": "code",
     "collapsed": false,
     "input": [
      "d_mcmc, f_mcmc, a_mcmc, s_mcmc = map(lambda v: (v[1], v[2]-v[1], v[1]-v[0]),\n",
      "                             zip(*np.percentile(samples_lin, [16, 50, 84],\n",
      "                                                axis=0)))"
     ],
     "language": "python",
     "metadata": {},
     "outputs": []
    },
    {
     "cell_type": "code",
     "collapsed": false,
     "input": [
      "d_mcmc, f_mcmc, a_mcmc, s_mcmc"
     ],
     "language": "python",
     "metadata": {},
     "outputs": []
    },
    {
     "cell_type": "code",
     "collapsed": false,
     "input": [],
     "language": "python",
     "metadata": {},
     "outputs": []
    }
   ],
   "metadata": {}
  }
 ]
}