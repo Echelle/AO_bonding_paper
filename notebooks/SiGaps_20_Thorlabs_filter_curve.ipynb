{
 "cells": [
  {
   "cell_type": "markdown",
   "metadata": {},
   "source": [
    "##### This IPython Notebook is for integrating filter curves with the spectra to show the Si gap's effect size on tranmission in IR imaging.\n",
    "\n",
    "\n",
    "Author: Michael Gully-Santiago, `gully@astro.as.utexas.edu`\n",
    "\n",
    "Date: April 16, 2015"
   ]
  },
  {
   "cell_type": "markdown",
   "metadata": {},
   "source": [
    "First, let's see if we can get the filter curve data from say... Thorlabs."
   ]
  },
  {
   "cell_type": "code",
   "execution_count": 1,
   "metadata": {
    "collapsed": true
   },
   "outputs": [],
   "source": [
    "%matplotlib inline\n",
    "import matplotlib.pyplot as plt\n",
    "import pandas as pd\n",
    "import numpy as np\n",
    "import seaborn as sns"
   ]
  },
  {
   "cell_type": "markdown",
   "metadata": {},
   "source": [
    "From the Thorlabs website:  \n",
    "https://www.thorlabs.com/newgrouppage9.cfm?objectgroup_id=1000\n",
    "\n",
    "Read in the filter curve, `fc`"
   ]
  },
  {
   "cell_type": "code",
   "execution_count": 2,
   "metadata": {
    "collapsed": false
   },
   "outputs": [
    {
     "data": {
      "text/html": [
       "<div style=\"max-height:1000px;max-width:1500px;overflow:auto;\">\n",
       "<table border=\"1\" class=\"dataframe\">\n",
       "  <thead>\n",
       "    <tr style=\"text-align: right;\">\n",
       "      <th></th>\n",
       "      <th>Wavelength (nm)</th>\n",
       "      <th>% Transmission</th>\n",
       "      <th>Optical Density</th>\n",
       "    </tr>\n",
       "  </thead>\n",
       "  <tbody>\n",
       "    <tr>\n",
       "      <th>2396</th>\n",
       "      <td> 204</td>\n",
       "      <td> 0.000013</td>\n",
       "      <td> 6.88533</td>\n",
       "    </tr>\n",
       "    <tr>\n",
       "      <th>2397</th>\n",
       "      <td> 203</td>\n",
       "      <td> 0.000021</td>\n",
       "      <td> 6.68095</td>\n",
       "    </tr>\n",
       "    <tr>\n",
       "      <th>2398</th>\n",
       "      <td> 202</td>\n",
       "      <td> 0.000018</td>\n",
       "      <td> 6.74232</td>\n",
       "    </tr>\n",
       "    <tr>\n",
       "      <th>2399</th>\n",
       "      <td> 201</td>\n",
       "      <td> 0.000016</td>\n",
       "      <td> 6.78794</td>\n",
       "    </tr>\n",
       "    <tr>\n",
       "      <th>2400</th>\n",
       "      <td> 200</td>\n",
       "      <td> 0.000020</td>\n",
       "      <td> 6.69023</td>\n",
       "    </tr>\n",
       "  </tbody>\n",
       "</table>\n",
       "</div>"
      ],
      "text/plain": [
       "      Wavelength (nm)  % Transmission  Optical Density\n",
       "2396              204        0.000013          6.88533\n",
       "2397              203        0.000021          6.68095\n",
       "2398              202        0.000018          6.74232\n",
       "2399              201        0.000016          6.78794\n",
       "2400              200        0.000020          6.69023"
      ]
     },
     "execution_count": 2,
     "metadata": {},
     "output_type": "execute_result"
    }
   ],
   "source": [
    "fc = pd.read_excel(\"../data/FB1250-10.xlsx\", sheetname='Transmission Data', parse_cols=[2,3,4], skipfooter=2)\n",
    "fc.tail()"
   ]
  },
  {
   "cell_type": "code",
   "execution_count": 3,
   "metadata": {
    "collapsed": false
   },
   "outputs": [
    {
     "data": {
      "text/plain": [
       "Index([u'Wavelength (nm)', u'% Transmission', u'Optical Density'], dtype='object')"
      ]
     },
     "execution_count": 3,
     "metadata": {},
     "output_type": "execute_result"
    }
   ],
   "source": [
    "fc.columns"
   ]
  },
  {
   "cell_type": "markdown",
   "metadata": {},
   "source": [
    "Normalize the transmission"
   ]
  },
  {
   "cell_type": "code",
   "execution_count": 4,
   "metadata": {
    "collapsed": false
   },
   "outputs": [],
   "source": [
    "fc['wavelength'] = fc['Wavelength (nm)']\n",
    "fc['transmission'] = fc['% Transmission']/fc['% Transmission'].max()"
   ]
  },
  {
   "cell_type": "markdown",
   "metadata": {},
   "source": [
    "Drop wavelengths shorter than 1200 nm since they are absorbed."
   ]
  },
  {
   "cell_type": "code",
   "execution_count": 5,
   "metadata": {
    "collapsed": false
   },
   "outputs": [],
   "source": [
    "fc.drop(fc.index[fc.wavelength < 1150], inplace=True)"
   ]
  },
  {
   "cell_type": "code",
   "execution_count": 6,
   "metadata": {
    "collapsed": true
   },
   "outputs": [],
   "source": [
    "sns.set_context('notebook', font_scale=1.5)"
   ]
  },
  {
   "cell_type": "markdown",
   "metadata": {},
   "source": [
    "Construct a model."
   ]
  },
  {
   "cell_type": "code",
   "execution_count": 7,
   "metadata": {
    "collapsed": true
   },
   "outputs": [],
   "source": [
    "import etalon as etalon\n",
    "np.random.seed(78704)"
   ]
  },
  {
   "cell_type": "code",
   "execution_count": 8,
   "metadata": {
    "collapsed": false
   },
   "outputs": [
    {
     "data": {
      "text/plain": [
       "array([2600, 2599, 2598, ..., 1152, 1151, 1150])"
      ]
     },
     "execution_count": 8,
     "metadata": {},
     "output_type": "execute_result"
    }
   ],
   "source": [
    "fc.wavelength.values"
   ]
  },
  {
   "cell_type": "code",
   "execution_count": 9,
   "metadata": {
    "collapsed": false
   },
   "outputs": [],
   "source": [
    "n1 = etalon.sellmeier_Si(fc.wavelength.values)"
   ]
  },
  {
   "cell_type": "code",
   "execution_count": 10,
   "metadata": {
    "collapsed": true
   },
   "outputs": [],
   "source": [
    "dsp = etalon.T_gap_Si_fast(fc.wavelength, 0.0, n1)"
   ]
  },
  {
   "cell_type": "code",
   "execution_count": 11,
   "metadata": {
    "collapsed": true
   },
   "outputs": [],
   "source": [
    "sns.set_context('paper', font_scale=1.6)\n",
    "sns.set_style('ticks')"
   ]
  },
  {
   "cell_type": "code",
   "execution_count": 12,
   "metadata": {
    "collapsed": false
   },
   "outputs": [
    {
     "data": {
      "image/png": "[encoded data removed]",
      "text/plain": [
       "<matplotlib.figure.Figure at 0x102717350>"
      ]
     },
     "metadata": {},
     "output_type": "display_data"
    }
   ],
   "source": [
    "model_absolute = etalon.T_gap_Si_fast(fc.wavelength, 50.0, n1)\n",
    "model = model_absolute/dsp\n",
    "plt.plot(fc.wavelength, model,label='50 nm gap spectrum')\n",
    "model_absolute = etalon.T_gap_Si_fast(fc.wavelength, 250.0, n1)\n",
    "model = model_absolute/dsp\n",
    "plt.plot(fc.wavelength, model,'--', label='250 nm gap spectrum')\n",
    "plt.fill_betweenx(fc.transmission, fc.wavelength, color='k',alpha=0.3)\n",
    "plt.text(1260, 0.5, 'FB1250-10', fontsize=14)\n",
    "#plt.plot(fc.wavelength, fc.transmission, '--',label='Filter Curve')\n",
    "plt.xlabel('$\\lambda$ (nm)')\n",
    "plt.ylabel('T')\n",
    "plt.legend(loc='lower right')\n",
    "plt.xlim(1200, 1400)\n",
    "plt.savefig('../figs/F1250_10_filter.pdf')"
   ]
  },
  {
   "cell_type": "markdown",
   "metadata": {},
   "source": [
    "Plot the integrated flux for a variety of gap sizes."
   ]
  },
  {
   "cell_type": "markdown",
   "metadata": {},
   "source": [
    "Define an integral function."
   ]
  },
  {
   "cell_type": "code",
   "execution_count": 13,
   "metadata": {
    "collapsed": true
   },
   "outputs": [],
   "source": [
    "fc.transmission_norm =  fc.transmission/fc.transmission.sum()\n",
    "integrate_flux = lambda x: (x * fc.transmission_norm).sum()"
   ]
  },
  {
   "cell_type": "markdown",
   "metadata": {},
   "source": [
    "Small gaps."
   ]
  },
  {
   "cell_type": "code",
   "execution_count": 14,
   "metadata": {
    "collapsed": true
   },
   "outputs": [],
   "source": [
    "gap_sizes = np.arange(0, 50, 2)\n",
    "gap_trans = [integrate_flux(etalon.T_gap_Si_fast(fc.wavelength, gap_size, n1)/dsp) for gap_size in gap_sizes]"
   ]
  },
  {
   "cell_type": "code",
   "execution_count": 15,
   "metadata": {
    "collapsed": false
   },
   "outputs": [],
   "source": [
    "sns.set_context('paper', font_scale=1.6)\n",
    "sns.set_style('ticks')"
   ]
  },
  {
   "cell_type": "code",
   "execution_count": 16,
   "metadata": {
    "collapsed": false
   },
   "outputs": [
    {
     "data": {
      "image/png": "[encoded data removed]",
      "text/plain": [
       "<matplotlib.figure.Figure at 0x1125e3090>"
      ]
     },
     "metadata": {},
     "output_type": "display_data"
    }
   ],
   "source": [
    "plt.plot(gap_sizes, gap_trans, 's', label='Integrated transmission')\n",
    "plt.xlabel('Gap axial extent $d$ (nm)')\n",
    "plt.ylabel('FB1250-10 Transmission')\n",
    "plt.hlines(1.0, 0, 50, label='100% transmission')\n",
    "plt.hlines(0.998, 0, 50, linestyle='dashed', label = '99.8% transmission')\n",
    "plt.legend(loc='lower left')\n",
    "plt.savefig('../figs/FB1250-10_integ_trans.pdf')"
   ]
  },
  {
   "cell_type": "code",
   "execution_count": 17,
   "metadata": {
    "collapsed": false
   },
   "outputs": [
    {
     "data": {
      "text/html": [
       "<div style=\"max-height:1000px;max-width:1500px;overflow:auto;\">\n",
       "<table border=\"1\" class=\"dataframe\">\n",
       "  <thead>\n",
       "    <tr style=\"text-align: right;\">\n",
       "      <th></th>\n",
       "      <th>d (nm)</th>\n",
       "      <th>FB1250-10 Transmission</th>\n",
       "    </tr>\n",
       "  </thead>\n",
       "  <tbody>\n",
       "    <tr>\n",
       "      <th>0</th>\n",
       "      <td>  0</td>\n",
       "      <td> 1.000</td>\n",
       "    </tr>\n",
       "    <tr>\n",
       "      <th>1</th>\n",
       "      <td>  8</td>\n",
       "      <td> 0.998</td>\n",
       "    </tr>\n",
       "    <tr>\n",
       "      <th>2</th>\n",
       "      <td> 16</td>\n",
       "      <td> 0.991</td>\n",
       "    </tr>\n",
       "    <tr>\n",
       "      <th>3</th>\n",
       "      <td> 24</td>\n",
       "      <td> 0.981</td>\n",
       "    </tr>\n",
       "    <tr>\n",
       "      <th>4</th>\n",
       "      <td> 32</td>\n",
       "      <td> 0.966</td>\n",
       "    </tr>\n",
       "    <tr>\n",
       "      <th>5</th>\n",
       "      <td> 40</td>\n",
       "      <td> 0.948</td>\n",
       "    </tr>\n",
       "    <tr>\n",
       "      <th>6</th>\n",
       "      <td> 48</td>\n",
       "      <td> 0.928</td>\n",
       "    </tr>\n",
       "  </tbody>\n",
       "</table>\n",
       "</div>"
      ],
      "text/plain": [
       "   d (nm)  FB1250-10 Transmission\n",
       "0       0                   1.000\n",
       "1       8                   0.998\n",
       "2      16                   0.991\n",
       "3      24                   0.981\n",
       "4      32                   0.966\n",
       "5      40                   0.948\n",
       "6      48                   0.928"
      ]
     },
     "execution_count": 17,
     "metadata": {},
     "output_type": "execute_result"
    }
   ],
   "source": [
    "out_tbl = pd.DataFrame({'d (nm)':gap_sizes[::4], 'FB1250-10 Transmission':gap_trans[::4]})\n",
    "out_tbl['FB1250-10 Transmission'] = out_tbl['FB1250-10 Transmission'].round(3)\n",
    "out_tbl = out_tbl[['d (nm)','FB1250-10 Transmission']]\n",
    "out_tbl"
   ]
  },
  {
   "cell_type": "code",
   "execution_count": 18,
   "metadata": {
    "collapsed": true
   },
   "outputs": [],
   "source": [
    "out_tbl.to_latex('../tbls/tbl_FB1250_raw.tex', index=False)"
   ]
  }
 ],
 "metadata": {
  "kernelspec": {
   "display_name": "Python 2",
   "language": "python",
   "name": "python2"
  },
  "language_info": {
   "codemirror_mode": {
    "name": "ipython",
    "version": 2
   },
   "file_extension": ".py",
   "mimetype": "text/x-python",
   "name": "python",
   "nbconvert_exporter": "python",
   "pygments_lexer": "ipython2",
   "version": "2.7.9"
  }
 },
 "nbformat": 4,
 "nbformat_minor": 0
}
