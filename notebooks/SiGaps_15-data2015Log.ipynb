{
 "metadata": {
  "name": "",
  "signature": "sha256:5570def022084481f2343b3f4455f04f00e21ebacbf86e3ca25f6f54c4275a1a"
 },
 "nbformat": 3,
 "nbformat_minor": 0,
 "worksheets": [
  {
   "cells": [
    {
     "cell_type": "code",
     "collapsed": false,
     "input": [
      "%pylab inline"
     ],
     "language": "python",
     "metadata": {},
     "outputs": [
      {
       "output_type": "stream",
       "stream": "stdout",
       "text": [
        "Populating the interactive namespace from numpy and matplotlib\n"
       ]
      }
     ],
     "prompt_number": 1
    },
    {
     "cell_type": "code",
     "collapsed": false,
     "input": [
      "import seaborn as sns\n",
      "sns.set_context(\"notebook\", font_scale=1.5, rc={\"lines.linewidth\": 2.5})\n",
      "cmap = sns.cubehelix_palette(light=1, as_cmap=True)\n",
      "sns.palplot(sns.cubehelix_palette(light=1))\n",
      "import pandas as pd\n",
      "pd.set_option('display.max_columns', 100)"
     ],
     "language": "python",
     "metadata": {},
     "outputs": [
      {
       "metadata": {},
       "output_type": "display_data",
       "png": "[encoded data removed]",
       "text": [
        "<matplotlib.figure.Figure at 0x1084d3a90>"
       ]
      }
     ],
     "prompt_number": 3
    },
    {
     "cell_type": "code",
     "collapsed": false,
     "input": [
      "nrows = 53\n",
      "df = pd.read_csv('../data/cln_20150206_cary5000.csv')\n",
      "df.set_index('wavelength', inplace=True)\n",
      "df.columns"
     ],
     "language": "python",
     "metadata": {},
     "outputs": [
      {
       "metadata": {},
       "output_type": "pyout",
       "prompt_number": 123,
       "text": [
        "Index([u'Baseline 100%T', u'empty_1', u'empty_2_1', u'empty_2_2', u'empty_2_3', u'empty_2_4', u'empty_2_5', u'empty_2_6', u'empty_2_7', u'empty_2_8', u'empty_2_9', u'empty_2_10', u'empty_2_11', u'empty_2_12', u'empty_2_13', u'empty_2_14', u'empty_2_15', u'empty_3_1', u'empty_3_2', u'empty_3_3', u'empty_3_4', u'empty_3_5', u'VG05_1_1', u'VG05_1_2', u'VG05_1_3', u'VG05_1_4', u'VG05_1_5', u'Baseline 100%T.1', u'empty_4_1', u'empty_4_2', u'VG09-12_1_0', u'VG09-12_1_2', u'VG09-12_1_4', u'VG09-12_1_6', u'VG09-12_1_8', u'VG09-12_1_10', u'VG09-12_1_12', u'VG09-12_1_14', u'VG09-12_1_16', u'VG09-12_1_18', u'VG09-12_1_20', u'VG09-12_1_22', u'VG09-12_1_24', u'VG09-12_1_26', u'VG09-12_1_28', u'VG09-12_1_30', u'VG09-12_1_32', u'VG09-12_1_34', u'VG09-12_1_36', u'VG09-12_1_38', u'VG09-12_1_40', u'VG09-12_1_42', u'VG09-12_1_44', u'VG09-12_1_46', u'VG09-12_1_48', u'VG09-12_1_50', u'empty_5_1', u'empty_5_2', u'empty_5_3', u'empty_5_4', u'empty_5_5'], dtype='object')"
       ]
      }
     ],
     "prompt_number": 123
    },
    {
     "cell_type": "code",
     "collapsed": false,
     "input": [
      "log = pd.read_csv('../data/logDT_20150206_cary5000', names=['time'])\n",
      "log.set_index(df.columns, inplace=True)\n",
      "log['DT'] = pd.to_datetime(log.time)\n",
      "log.head()"
     ],
     "language": "python",
     "metadata": {},
     "outputs": [
      {
       "html": [
        "<div style=\"max-height:1000px;max-width:1500px;overflow:auto;\">\n",
        "<table border=\"1\" class=\"dataframe\">\n",
        "  <thead>\n",
        "    <tr style=\"text-align: right;\">\n",
        "      <th></th>\n",
        "      <th>time</th>\n",
        "      <th>DT</th>\n",
        "    </tr>\n",
        "  </thead>\n",
        "  <tbody>\n",
        "    <tr>\n",
        "      <th>Baseline 100%T</th>\n",
        "      <td> 2/6/2015 1:45:42 PM</td>\n",
        "      <td>2015-02-06 13:45:42</td>\n",
        "    </tr>\n",
        "    <tr>\n",
        "      <th>empty_1</th>\n",
        "      <td> 2/6/2015 1:48:36 PM</td>\n",
        "      <td>2015-02-06 13:48:36</td>\n",
        "    </tr>\n",
        "    <tr>\n",
        "      <th>empty_2_1</th>\n",
        "      <td> 2/6/2015 1:50:53 PM</td>\n",
        "      <td>2015-02-06 13:50:53</td>\n",
        "    </tr>\n",
        "    <tr>\n",
        "      <th>empty_2_2</th>\n",
        "      <td> 2/6/2015 1:51:57 PM</td>\n",
        "      <td>2015-02-06 13:51:57</td>\n",
        "    </tr>\n",
        "    <tr>\n",
        "      <th>empty_2_3</th>\n",
        "      <td> 2/6/2015 1:52:58 PM</td>\n",
        "      <td>2015-02-06 13:52:58</td>\n",
        "    </tr>\n",
        "  </tbody>\n",
        "</table>\n",
        "</div>"
       ],
       "metadata": {},
       "output_type": "pyout",
       "prompt_number": 124,
       "text": [
        "                               time                  DT\n",
        "Baseline 100%T  2/6/2015 1:45:42 PM 2015-02-06 13:45:42\n",
        "empty_1         2/6/2015 1:48:36 PM 2015-02-06 13:48:36\n",
        "empty_2_1       2/6/2015 1:50:53 PM 2015-02-06 13:50:53\n",
        "empty_2_2       2/6/2015 1:51:57 PM 2015-02-06 13:51:57\n",
        "empty_2_3       2/6/2015 1:52:58 PM 2015-02-06 13:52:58"
       ]
      }
     ],
     "prompt_number": 124
    },
    {
     "cell_type": "code",
     "collapsed": false,
     "input": [
      "experiments = pd.concat([log['DT'], df.apply(np.mean, axis=0), df.apply(np.std, axis=0)], axis=1, copy=True)\n",
      "experiments.columns=['time','mean', 'stddev']\n",
      "del df['empty_4_2']\n",
      "#del experiments['empty_4_2']"
     ],
     "language": "python",
     "metadata": {},
     "outputs": [],
     "prompt_number": 125
    },
    {
     "cell_type": "code",
     "collapsed": false,
     "input": [
      "experiments.head()"
     ],
     "language": "python",
     "metadata": {},
     "outputs": [
      {
       "html": [
        "<div style=\"max-height:1000px;max-width:1500px;overflow:auto;\">\n",
        "<table border=\"1\" class=\"dataframe\">\n",
        "  <thead>\n",
        "    <tr style=\"text-align: right;\">\n",
        "      <th></th>\n",
        "      <th>time</th>\n",
        "      <th>mean</th>\n",
        "      <th>stddev</th>\n",
        "    </tr>\n",
        "  </thead>\n",
        "  <tbody>\n",
        "    <tr>\n",
        "      <th>Baseline 100%T</th>\n",
        "      <td>2015-02-06 13:45:42</td>\n",
        "      <td> 0.108719</td>\n",
        "      <td> 0.030123</td>\n",
        "    </tr>\n",
        "    <tr>\n",
        "      <th>empty_1</th>\n",
        "      <td>2015-02-06 13:48:36</td>\n",
        "      <td> 0.995787</td>\n",
        "      <td> 0.000618</td>\n",
        "    </tr>\n",
        "    <tr>\n",
        "      <th>empty_2_1</th>\n",
        "      <td>2015-02-06 13:50:53</td>\n",
        "      <td> 0.992650</td>\n",
        "      <td> 0.001644</td>\n",
        "    </tr>\n",
        "    <tr>\n",
        "      <th>empty_2_2</th>\n",
        "      <td>2015-02-06 13:51:57</td>\n",
        "      <td> 0.990831</td>\n",
        "      <td> 0.001585</td>\n",
        "    </tr>\n",
        "    <tr>\n",
        "      <th>empty_2_3</th>\n",
        "      <td>2015-02-06 13:52:58</td>\n",
        "      <td> 0.990616</td>\n",
        "      <td> 0.001257</td>\n",
        "    </tr>\n",
        "  </tbody>\n",
        "</table>\n",
        "</div>"
       ],
       "metadata": {},
       "output_type": "pyout",
       "prompt_number": 126,
       "text": [
        "                              time      mean    stddev\n",
        "Baseline 100%T 2015-02-06 13:45:42  0.108719  0.030123\n",
        "empty_1        2015-02-06 13:48:36  0.995787  0.000618\n",
        "empty_2_1      2015-02-06 13:50:53  0.992650  0.001644\n",
        "empty_2_2      2015-02-06 13:51:57  0.990831  0.001585\n",
        "empty_2_3      2015-02-06 13:52:58  0.990616  0.001257"
       ]
      }
     ],
     "prompt_number": 126
    },
    {
     "cell_type": "markdown",
     "metadata": {},
     "source": [
      "Re-normalize everything after the second baseline."
     ]
    },
    {
     "cell_type": "code",
     "collapsed": false,
     "input": [
      "baseline2_id = experiments.index.get_loc('Baseline 100%T.1')\n",
      "ids = experiments.index[baseline2_id:]\n",
      "rebaseline = experiments['mean'][baseline2_id]/experiments['mean'][0]"
     ],
     "language": "python",
     "metadata": {},
     "outputs": [],
     "prompt_number": 149
    },
    {
     "cell_type": "code",
     "collapsed": false,
     "input": [
      "rebaseline"
     ],
     "language": "python",
     "metadata": {},
     "outputs": [
      {
       "metadata": {},
       "output_type": "pyout",
       "prompt_number": 150,
       "text": [
        "1.0048173241453553"
       ]
      }
     ],
     "prompt_number": 150
    },
    {
     "cell_type": "code",
     "collapsed": false,
     "input": [
      "plt.plot_date(experiments.time, experiments['mean'], label='experiments')\n",
      "plt.plot_date(experiments.loc['Baseline 100%T'].time,\n",
      "              experiments.loc['Baseline 100%T']['mean']/experiments.loc['Baseline 100%T']['mean'],\n",
      "              label='Baseline 1')\n",
      "plt.plot_date(experiments.loc['Baseline 100%T.1'].time,\n",
      "              experiments.loc['Baseline 100%T.1']['mean']/experiments.loc['Baseline 100%T']['mean'],\n",
      "              label='Baseline 2')\n",
      "\n",
      "plt.plot_date(experiments.time[ids], experiments['mean'][ids]*rebaseline, label='Rebaselined')\n",
      "\n",
      "plt.legend(loc='best')\n",
      "plt.xticks(rotation=30)\n",
      "plt.ylim(0.99, 1.02)\n"
     ],
     "language": "python",
     "metadata": {},
     "outputs": [
      {
       "metadata": {},
       "output_type": "pyout",
       "prompt_number": 154,
       "text": [
        "(0.99, 1.02)"
       ]
      },
      {
       "metadata": {},
       "output_type": "display_data",
       "png": "[encoded data removed]",
       "text": [
        "<matplotlib.figure.Figure at 0x115451610>"
       ]
      }
     ],
     "prompt_number": 154
    },
    {
     "cell_type": "code",
     "collapsed": false,
     "input": [],
     "language": "python",
     "metadata": {},
     "outputs": [],
     "prompt_number": 122
    },
    {
     "cell_type": "code",
     "collapsed": false,
     "input": [],
     "language": "python",
     "metadata": {},
     "outputs": []
    }
   ],
   "metadata": {}
  }
 ]
}