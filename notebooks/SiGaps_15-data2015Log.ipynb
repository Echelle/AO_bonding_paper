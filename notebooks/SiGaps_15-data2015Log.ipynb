{
 "cells": [
  {
   "cell_type": "code",
   "execution_count": 1,
   "metadata": {
    "collapsed": false
   },
   "outputs": [
    {
     "name": "stdout",
     "output_type": "stream",
     "text": [
      "Populating the interactive namespace from numpy and matplotlib\n"
     ]
    }
   ],
   "source": [
    "%pylab inline"
   ]
  },
  {
   "cell_type": "code",
   "execution_count": 2,
   "metadata": {
    "collapsed": false
   },
   "outputs": [
    {
     "data": {
      "image/png": "[encoded data removed]",
      "text/plain": [
       "<matplotlib.figure.Figure at 0x1052a8810>"
      ]
     },
     "metadata": {},
     "output_type": "display_data"
    }
   ],
   "source": [
    "import seaborn as sns\n",
    "sns.set_context(\"notebook\", font_scale=1.5, rc={\"lines.linewidth\": 2.5})\n",
    "cmap = sns.cubehelix_palette(light=1, as_cmap=True)\n",
    "sns.palplot(sns.cubehelix_palette(light=1))\n",
    "import pandas as pd\n",
    "pd.set_option('display.max_columns', 100)"
   ]
  },
  {
   "cell_type": "code",
   "execution_count": 3,
   "metadata": {
    "collapsed": false
   },
   "outputs": [
    {
     "data": {
      "text/plain": [
       "Index([u'Baseline 100%T', u'empty_1', u'empty_2_1', u'empty_2_2', u'empty_2_3', u'empty_2_4', u'empty_2_5', u'empty_2_6', u'empty_2_7', u'empty_2_8', u'empty_2_9', u'empty_2_10', u'empty_2_11', u'empty_2_12', u'empty_2_13', u'empty_2_14', u'empty_2_15', u'empty_3_1', u'empty_3_2', u'empty_3_3', u'empty_3_4', u'empty_3_5', u'VG05_1_1', u'VG05_1_2', u'VG05_1_3', u'VG05_1_4', u'VG05_1_5', u'Baseline 100%T.1', u'empty_4_1', u'empty_4_2', u'VG09-12_1_0', u'VG09-12_1_2', u'VG09-12_1_4', u'VG09-12_1_6', u'VG09-12_1_8', u'VG09-12_1_10', u'VG09-12_1_12', u'VG09-12_1_14', u'VG09-12_1_16', u'VG09-12_1_18', u'VG09-12_1_20', u'VG09-12_1_22', u'VG09-12_1_24', u'VG09-12_1_26', u'VG09-12_1_28', u'VG09-12_1_30', u'VG09-12_1_32', u'VG09-12_1_34', u'VG09-12_1_36', u'VG09-12_1_38', u'VG09-12_1_40', u'VG09-12_1_42', u'VG09-12_1_44', u'VG09-12_1_46', u'VG09-12_1_48', u'VG09-12_1_50', u'empty_5_1', u'empty_5_2', u'empty_5_3', u'empty_5_4', u'empty_5_5'], dtype='object')"
      ]
     },
     "execution_count": 3,
     "metadata": {},
     "output_type": "execute_result"
    }
   ],
   "source": [
    "nrows = 53\n",
    "df = pd.read_csv('../data/cln_20150206_cary5000.csv')\n",
    "df.set_index('wavelength', inplace=True)\n",
    "df.columns"
   ]
  },
  {
   "cell_type": "code",
   "execution_count": 4,
   "metadata": {
    "collapsed": false
   },
   "outputs": [
    {
     "data": {
      "text/html": [
       "<div style=\"max-height:1000px;max-width:1500px;overflow:auto;\">\n",
       "<table border=\"1\" class=\"dataframe\">\n",
       "  <thead>\n",
       "    <tr style=\"text-align: right;\">\n",
       "      <th></th>\n",
       "      <th>time</th>\n",
       "      <th>DT</th>\n",
       "    </tr>\n",
       "  </thead>\n",
       "  <tbody>\n",
       "    <tr>\n",
       "      <th>Baseline 100%T</th>\n",
       "      <td> 2/6/2015 1:45:42 PM</td>\n",
       "      <td>2015-02-06 13:45:42</td>\n",
       "    </tr>\n",
       "    <tr>\n",
       "      <th>empty_1</th>\n",
       "      <td> 2/6/2015 1:48:36 PM</td>\n",
       "      <td>2015-02-06 13:48:36</td>\n",
       "    </tr>\n",
       "    <tr>\n",
       "      <th>empty_2_1</th>\n",
       "      <td> 2/6/2015 1:50:53 PM</td>\n",
       "      <td>2015-02-06 13:50:53</td>\n",
       "    </tr>\n",
       "    <tr>\n",
       "      <th>empty_2_2</th>\n",
       "      <td> 2/6/2015 1:51:57 PM</td>\n",
       "      <td>2015-02-06 13:51:57</td>\n",
       "    </tr>\n",
       "    <tr>\n",
       "      <th>empty_2_3</th>\n",
       "      <td> 2/6/2015 1:52:58 PM</td>\n",
       "      <td>2015-02-06 13:52:58</td>\n",
       "    </tr>\n",
       "  </tbody>\n",
       "</table>\n",
       "</div>"
      ],
      "text/plain": [
       "                               time                  DT\n",
       "Baseline 100%T  2/6/2015 1:45:42 PM 2015-02-06 13:45:42\n",
       "empty_1         2/6/2015 1:48:36 PM 2015-02-06 13:48:36\n",
       "empty_2_1       2/6/2015 1:50:53 PM 2015-02-06 13:50:53\n",
       "empty_2_2       2/6/2015 1:51:57 PM 2015-02-06 13:51:57\n",
       "empty_2_3       2/6/2015 1:52:58 PM 2015-02-06 13:52:58"
      ]
     },
     "execution_count": 4,
     "metadata": {},
     "output_type": "execute_result"
    }
   ],
   "source": [
    "log = pd.read_csv('../data/logDT_20150206_cary5000', names=['time'])\n",
    "log.set_index(df.columns, inplace=True)\n",
    "log['DT'] = pd.to_datetime(log.time)\n",
    "log.head()"
   ]
  },
  {
   "cell_type": "code",
   "execution_count": 5,
   "metadata": {
    "collapsed": false
   },
   "outputs": [],
   "source": [
    "experiments = pd.concat([log['DT'], df.apply(np.mean, axis=0), df.apply(np.std, axis=0)], axis=1, copy=True)\n",
    "experiments.columns=['time','mean', 'stddev']\n",
    "df.drop('empty_4_2', inplace=True, axis=1)\n",
    "experiments.drop('empty_4_2', inplace=True)"
   ]
  },
  {
   "cell_type": "code",
   "execution_count": 6,
   "metadata": {
    "collapsed": false
   },
   "outputs": [
    {
     "data": {
      "text/html": [
       "<div style=\"max-height:1000px;max-width:1500px;overflow:auto;\">\n",
       "<table border=\"1\" class=\"dataframe\">\n",
       "  <thead>\n",
       "    <tr style=\"text-align: right;\">\n",
       "      <th></th>\n",
       "      <th>time</th>\n",
       "      <th>mean</th>\n",
       "      <th>stddev</th>\n",
       "    </tr>\n",
       "  </thead>\n",
       "  <tbody>\n",
       "    <tr>\n",
       "      <th>Baseline 100%T</th>\n",
       "      <td>2015-02-06 13:45:42</td>\n",
       "      <td> 0.108719</td>\n",
       "      <td> 0.030123</td>\n",
       "    </tr>\n",
       "    <tr>\n",
       "      <th>empty_1</th>\n",
       "      <td>2015-02-06 13:48:36</td>\n",
       "      <td> 0.995787</td>\n",
       "      <td> 0.000618</td>\n",
       "    </tr>\n",
       "    <tr>\n",
       "      <th>empty_2_1</th>\n",
       "      <td>2015-02-06 13:50:53</td>\n",
       "      <td> 0.992650</td>\n",
       "      <td> 0.001644</td>\n",
       "    </tr>\n",
       "    <tr>\n",
       "      <th>empty_2_2</th>\n",
       "      <td>2015-02-06 13:51:57</td>\n",
       "      <td> 0.990831</td>\n",
       "      <td> 0.001585</td>\n",
       "    </tr>\n",
       "    <tr>\n",
       "      <th>empty_2_3</th>\n",
       "      <td>2015-02-06 13:52:58</td>\n",
       "      <td> 0.990616</td>\n",
       "      <td> 0.001257</td>\n",
       "    </tr>\n",
       "  </tbody>\n",
       "</table>\n",
       "</div>"
      ],
      "text/plain": [
       "                              time      mean    stddev\n",
       "Baseline 100%T 2015-02-06 13:45:42  0.108719  0.030123\n",
       "empty_1        2015-02-06 13:48:36  0.995787  0.000618\n",
       "empty_2_1      2015-02-06 13:50:53  0.992650  0.001644\n",
       "empty_2_2      2015-02-06 13:51:57  0.990831  0.001585\n",
       "empty_2_3      2015-02-06 13:52:58  0.990616  0.001257"
      ]
     },
     "execution_count": 6,
     "metadata": {},
     "output_type": "execute_result"
    }
   ],
   "source": [
    "experiments.head()"
   ]
  },
  {
   "cell_type": "markdown",
   "metadata": {},
   "source": [
    "Re-normalize everything after the second baseline."
   ]
  },
  {
   "cell_type": "code",
   "execution_count": 7,
   "metadata": {
    "collapsed": false
   },
   "outputs": [
    {
     "name": "stderr",
     "output_type": "stream",
     "text": [
      "-c:7: SettingWithCopyWarning: \n",
      "A value is trying to be set on a copy of a slice from a DataFrame\n",
      "\n",
      "See the the caveats in the documentation: http://pandas.pydata.org/pandas-docs/stable/indexing.html#indexing-view-versus-copy\n",
      "-c:8: SettingWithCopyWarning: \n",
      "A value is trying to be set on a copy of a slice from a DataFrame\n",
      "\n",
      "See the the caveats in the documentation: http://pandas.pydata.org/pandas-docs/stable/indexing.html#indexing-view-versus-copy\n"
     ]
    }
   ],
   "source": [
    "baseline2_id = experiments.index.get_loc('Baseline 100%T.1')\n",
    "ids = experiments.index[baseline2_id:]\n",
    "rebaseline = experiments['mean'][baseline2_id]/experiments['mean'][0]\n",
    "corr_experiments = experiments.copy()\n",
    "\n",
    "corr_experiments['rebaseline'] = 1\n",
    "corr_experiments['rebaseline'][ids] = rebaseline\n",
    "corr_experiments['mean'][ids] = corr_experiments['mean'][ids]*rebaseline"
   ]
  },
  {
   "cell_type": "code",
   "execution_count": 8,
   "metadata": {
    "collapsed": false
   },
   "outputs": [
    {
     "data": {
      "text/plain": [
       "<matplotlib.text.Text at 0x1052a80d0>"
      ]
     },
     "execution_count": 8,
     "metadata": {},
     "output_type": "execute_result"
    },
    {
     "data": {
      "image/png": "[encoded data removed]",
      "text/plain": [
       "<matplotlib.figure.Figure at 0x108f70510>"
      ]
     },
     "metadata": {},
     "output_type": "display_data"
    }
   ],
   "source": [
    "plt.plot_date(experiments.time, experiments['mean'], label='Raw')\n",
    "plt.plot_date(experiments.loc['Baseline 100%T'].time,\n",
    "              experiments.loc['Baseline 100%T']['mean']/experiments.loc['Baseline 100%T']['mean'],\n",
    "              label='Baseline 1')\n",
    "plt.plot_date(experiments.loc['Baseline 100%T.1'].time,\n",
    "              experiments.loc['Baseline 100%T.1']['mean']/experiments.loc['Baseline 100%T']['mean'],\n",
    "              label='Baseline 2')\n",
    "\n",
    "plt.plot_date(experiments.time[ids],corr_experiments['mean'][ids], label='Rebaselined')\n",
    "\n",
    "fit_inds = range(6,17) + range(55,60)\n",
    "plt.plot_date(experiments.time[fit_inds],corr_experiments['mean'][fit_inds], label='Points in fit')\n",
    "\n",
    "\n",
    "plt.legend(loc='best')\n",
    "plt.xticks(rotation=30)\n",
    "plt.ylim(0.99, 1.02)\n",
    "plt.title('Baseline drift in Cary 5000')\n",
    "plt.xlabel('Time')\n",
    "plt.ylabel('Mean Transmission')\n"
   ]
  },
  {
   "cell_type": "markdown",
   "metadata": {},
   "source": [
    "Run a linear model."
   ]
  },
  {
   "cell_type": "code",
   "execution_count": 9,
   "metadata": {
    "collapsed": false
   },
   "outputs": [],
   "source": [
    "from astroML.linear_model import LinearRegression"
   ]
  },
  {
   "cell_type": "code",
   "execution_count": 10,
   "metadata": {
    "collapsed": false
   },
   "outputs": [],
   "source": [
    "X = corr_experiments['time'][fit_inds]\n",
    "X = X.values.astype(np.float)\n",
    "X_all = corr_experiments['time'].values.astype(np.float)\n",
    "corr_experiments['time_num'] = X_all\n",
    "y = corr_experiments['mean'][fit_inds].values\n",
    "dy = corr_experiments['stddev'][fit_inds].values"
   ]
  },
  {
   "cell_type": "code",
   "execution_count": 11,
   "metadata": {
    "collapsed": false
   },
   "outputs": [
    {
     "data": {
      "text/plain": [
       "<astroML.linear_model.linear_regression.LinearRegression at 0x1095123d0>"
      ]
     },
     "execution_count": 11,
     "metadata": {},
     "output_type": "execute_result"
    }
   ],
   "source": [
    "model = LinearRegression()\n",
    "model.fit(X[:, None], y, dy)"
   ]
  },
  {
   "cell_type": "code",
   "execution_count": 12,
   "metadata": {
    "collapsed": false
   },
   "outputs": [],
   "source": [
    "y_pred = model.predict(X_all[:, None])\n",
    "corr_experiments['est_mean'] = y_pred"
   ]
  },
  {
   "cell_type": "code",
   "execution_count": 16,
   "metadata": {
    "collapsed": false
   },
   "outputs": [
    {
     "data": {
      "text/html": [
       "<div style=\"max-height:1000px;max-width:1500px;overflow:auto;\">\n",
       "<table border=\"1\" class=\"dataframe\">\n",
       "  <thead>\n",
       "    <tr style=\"text-align: right;\">\n",
       "      <th></th>\n",
       "      <th>time</th>\n",
       "      <th>mean</th>\n",
       "      <th>stddev</th>\n",
       "      <th>rebaseline</th>\n",
       "      <th>time_num</th>\n",
       "      <th>est_mean</th>\n",
       "    </tr>\n",
       "  </thead>\n",
       "  <tbody>\n",
       "    <tr>\n",
       "      <th>Baseline 100%T</th>\n",
       "      <td>2015-02-06 13:45:42</td>\n",
       "      <td> 0.108719</td>\n",
       "      <td> 0.030123</td>\n",
       "      <td> 1</td>\n",
       "      <td> 1.423230e+18</td>\n",
       "      <td> 0.988276</td>\n",
       "    </tr>\n",
       "    <tr>\n",
       "      <th>empty_1</th>\n",
       "      <td>2015-02-06 13:48:36</td>\n",
       "      <td> 0.995787</td>\n",
       "      <td> 0.000618</td>\n",
       "      <td> 1</td>\n",
       "      <td> 1.423231e+18</td>\n",
       "      <td> 0.989113</td>\n",
       "    </tr>\n",
       "    <tr>\n",
       "      <th>empty_2_1</th>\n",
       "      <td>2015-02-06 13:50:53</td>\n",
       "      <td> 0.992650</td>\n",
       "      <td> 0.001644</td>\n",
       "      <td> 1</td>\n",
       "      <td> 1.423231e+18</td>\n",
       "      <td> 0.989773</td>\n",
       "    </tr>\n",
       "    <tr>\n",
       "      <th>empty_2_2</th>\n",
       "      <td>2015-02-06 13:51:57</td>\n",
       "      <td> 0.990831</td>\n",
       "      <td> 0.001585</td>\n",
       "      <td> 1</td>\n",
       "      <td> 1.423231e+18</td>\n",
       "      <td> 0.990081</td>\n",
       "    </tr>\n",
       "    <tr>\n",
       "      <th>empty_2_3</th>\n",
       "      <td>2015-02-06 13:52:58</td>\n",
       "      <td> 0.990616</td>\n",
       "      <td> 0.001257</td>\n",
       "      <td> 1</td>\n",
       "      <td> 1.423231e+18</td>\n",
       "      <td> 0.990374</td>\n",
       "    </tr>\n",
       "  </tbody>\n",
       "</table>\n",
       "</div>"
      ],
      "text/plain": [
       "                              time      mean    stddev  rebaseline  \\\n",
       "Baseline 100%T 2015-02-06 13:45:42  0.108719  0.030123           1   \n",
       "empty_1        2015-02-06 13:48:36  0.995787  0.000618           1   \n",
       "empty_2_1      2015-02-06 13:50:53  0.992650  0.001644           1   \n",
       "empty_2_2      2015-02-06 13:51:57  0.990831  0.001585           1   \n",
       "empty_2_3      2015-02-06 13:52:58  0.990616  0.001257           1   \n",
       "\n",
       "                    time_num  est_mean  \n",
       "Baseline 100%T  1.423230e+18  0.988276  \n",
       "empty_1         1.423231e+18  0.989113  \n",
       "empty_2_1       1.423231e+18  0.989773  \n",
       "empty_2_2       1.423231e+18  0.990081  \n",
       "empty_2_3       1.423231e+18  0.990374  "
      ]
     },
     "execution_count": 16,
     "metadata": {},
     "output_type": "execute_result"
    }
   ],
   "source": [
    "corr_experiments.head()"
   ]
  },
  {
   "cell_type": "code",
   "execution_count": 14,
   "metadata": {
    "collapsed": false
   },
   "outputs": [
    {
     "data": {
      "text/plain": [
       "(0.98, 1.02)"
      ]
     },
     "execution_count": 14,
     "metadata": {},
     "output_type": "execute_result"
    },
    {
     "data": {
      "image/png": "[encoded data removed]",
      "text/plain": [
       "<matplotlib.figure.Figure at 0x109521050>"
      ]
     },
     "metadata": {},
     "output_type": "display_data"
    }
   ],
   "source": [
    "plt.plot(corr_experiments.time_num, corr_experiments['est_mean'], '.')\n",
    "plt.plot(corr_experiments.time_num, corr_experiments['mean'], '.')\n",
    "\n",
    "ratio = corr_experiments['mean']/corr_experiments['est_mean']\n",
    "\n",
    "plt.plot(corr_experiments.time_num, ratio, '.')\n",
    "\n",
    "plt.ylim(0.98, 1.02)"
   ]
  },
  {
   "cell_type": "markdown",
   "metadata": {},
   "source": [
    "Divide everything by this new projected baseline."
   ]
  },
  {
   "cell_type": "code",
   "execution_count": 17,
   "metadata": {
    "collapsed": false
   },
   "outputs": [],
   "source": [
    "corr_experiments.to_csv('../data/rebaseline_20150206_cary5000.csv')"
   ]
  }
 ],
 "metadata": {
  "kernelspec": {
   "display_name": "Python 2",
   "language": "python",
   "name": "python2"
  },
  "language_info": {
   "codemirror_mode": {
    "name": "ipython",
    "version": 2
   },
   "file_extension": ".py",
   "mimetype": "text/x-python",
   "name": "python",
   "nbconvert_exporter": "python",
   "pygments_lexer": "ipython2",
   "version": "2.7.9"
  }
 },
 "nbformat": 4,
 "nbformat_minor": 0
}
